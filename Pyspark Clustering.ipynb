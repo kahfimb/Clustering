{
 "cells": [
  {
   "cell_type": "code",
   "execution_count": 1,
   "metadata": {},
   "outputs": [],
   "source": [
    "from pyspark.sql import SparkSession"
   ]
  },
  {
   "cell_type": "code",
   "execution_count": 2,
   "metadata": {},
   "outputs": [],
   "source": [
    "spark = SparkSession.builder.getOrCreate()"
   ]
  },
  {
   "cell_type": "code",
   "execution_count": 3,
   "metadata": {},
   "outputs": [],
   "source": [
    "df = spark.read.csv('gender_name.csv', inferSchema=True, header=True)"
   ]
  },
  {
   "cell_type": "code",
   "execution_count": 4,
   "metadata": {},
   "outputs": [
    {
     "name": "stdout",
     "output_type": "stream",
     "text": [
      "+-----------+------+-------+-----------+\n",
      "|       Name|Gender|  Count|Probability|\n",
      "+-----------+------+-------+-----------+\n",
      "|      James|     M|5304407|0.014516787|\n",
      "|       John|     M|5260831| 0.01439753|\n",
      "|     Robert|     M|4970386|0.013602658|\n",
      "|    Michael|     M|4579950|0.012534136|\n",
      "|    William|     M|4226608| 0.01156713|\n",
      "|       Mary|     F|4169663|0.011411287|\n",
      "|      David|     M|3787547|0.010365534|\n",
      "|     Joseph|     M|2695970|0.007378171|\n",
      "|    Richard|     M|2638187|0.007220034|\n",
      "|    Charles|     M|2433540|0.006659968|\n",
      "|     Thomas|     M|2381034|0.006516273|\n",
      "|Christopher|     M|2196198|0.006010425|\n",
      "|     Daniel|     M|2039641|0.005581969|\n",
      "|    Matthew|     M|1738699|0.004758368|\n",
      "|  Elizabeth|     F|1704140|0.004663789|\n",
      "|   Patricia|     F|1608260|0.004401391|\n",
      "|   Jennifer|     F|1584426|0.004336163|\n",
      "|    Anthony|     M|1506437|0.004122727|\n",
      "|     George|     M|1495736|0.004093442|\n",
      "|      Linda|     F|1480592|0.004051996|\n",
      "+-----------+------+-------+-----------+\n",
      "only showing top 20 rows\n",
      "\n"
     ]
    }
   ],
   "source": [
    "df.show()"
   ]
  },
  {
   "cell_type": "code",
   "execution_count": 5,
   "metadata": {},
   "outputs": [
    {
     "data": {
      "text/plain": [
       "147269"
      ]
     },
     "execution_count": 5,
     "metadata": {},
     "output_type": "execute_result"
    }
   ],
   "source": [
    "df.count()"
   ]
  },
  {
   "cell_type": "code",
   "execution_count": 6,
   "metadata": {},
   "outputs": [
    {
     "data": {
      "text/plain": [
       "4"
      ]
     },
     "execution_count": 6,
     "metadata": {},
     "output_type": "execute_result"
    }
   ],
   "source": [
    "len(df.columns)"
   ]
  },
  {
   "cell_type": "code",
   "execution_count": 7,
   "metadata": {},
   "outputs": [
    {
     "name": "stdout",
     "output_type": "stream",
     "text": [
      "root\n",
      " |-- Name: string (nullable = true)\n",
      " |-- Gender: string (nullable = true)\n",
      " |-- Count: integer (nullable = true)\n",
      " |-- Probability: double (nullable = true)\n",
      "\n"
     ]
    }
   ],
   "source": [
    "df.printSchema()"
   ]
  },
  {
   "cell_type": "code",
   "execution_count": 8,
   "metadata": {},
   "outputs": [
    {
     "name": "stdout",
     "output_type": "stream",
     "text": [
      "+-------+------+------+------------------+--------------------+\n",
      "|summary|  Name|Gender|             Count|         Probability|\n",
      "+-------+------+------+------------------+--------------------+\n",
      "|  count|147269|147269|            147269|              147269|\n",
      "|   mean|   NaN|  null|2481.1613442068597|6.790295323639719E-6|\n",
      "| stddev|   NaN|  null| 46454.71797453446|1.271345193803369...|\n",
      "|    min|     A|     F|                 1|          2.73674E-9|\n",
      "|    max| Zzyzx|     M|           5304407|         0.014516787|\n",
      "+-------+------+------+------------------+--------------------+\n",
      "\n"
     ]
    }
   ],
   "source": [
    "df.describe().show()"
   ]
  },
  {
   "cell_type": "code",
   "execution_count": 9,
   "metadata": {},
   "outputs": [
    {
     "data": {
      "text/plain": [
       "[Row(Name='James', Gender='M', Count=5304407, Probability=0.014516787),\n",
       " Row(Name='John', Gender='M', Count=5260831, Probability=0.01439753),\n",
       " Row(Name='Robert', Gender='M', Count=4970386, Probability=0.013602658),\n",
       " Row(Name='Michael', Gender='M', Count=4579950, Probability=0.012534136),\n",
       " Row(Name='William', Gender='M', Count=4226608, Probability=0.01156713),\n",
       " Row(Name='Mary', Gender='F', Count=4169663, Probability=0.011411287),\n",
       " Row(Name='David', Gender='M', Count=3787547, Probability=0.010365534),\n",
       " Row(Name='Joseph', Gender='M', Count=2695970, Probability=0.007378171),\n",
       " Row(Name='Richard', Gender='M', Count=2638187, Probability=0.007220034),\n",
       " Row(Name='Charles', Gender='M', Count=2433540, Probability=0.006659968)]"
      ]
     },
     "execution_count": 9,
     "metadata": {},
     "output_type": "execute_result"
    }
   ],
   "source": [
    "df.head(10)"
   ]
  },
  {
   "cell_type": "code",
   "execution_count": 26,
   "metadata": {},
   "outputs": [
    {
     "name": "stdout",
     "output_type": "stream",
     "text": [
      "+-----------+-----+\n",
      "|Probability|count|\n",
      "+-----------+-----+\n",
      "|0.002467508|    1|\n",
      "| 9.43612E-4|    1|\n",
      "| 5.93615E-4|    1|\n",
      "| 4.60793E-4|    1|\n",
      "| 3.00916E-4|    1|\n",
      "| 2.81375E-4|    1|\n",
      "| 2.23597E-4|    1|\n",
      "| 1.94098E-4|    1|\n",
      "| 1.34919E-4|    1|\n",
      "|  1.3456E-4|    1|\n",
      "| 1.09467E-4|    1|\n",
      "| 8.09282E-5|    1|\n",
      "| 4.92887E-5|    1|\n",
      "| 4.81064E-5|    1|\n",
      "|  4.0553E-5|    1|\n",
      "| 3.05557E-5|    1|\n",
      "| 2.88015E-5|    1|\n",
      "| 2.71211E-5|    1|\n",
      "| 2.39985E-5|    1|\n",
      "| 2.30817E-5|    1|\n",
      "+-----------+-----+\n",
      "only showing top 20 rows\n",
      "\n"
     ]
    }
   ],
   "source": [
    "df.groupby('Probability').count().show()"
   ]
  },
  {
   "cell_type": "code",
   "execution_count": 27,
   "metadata": {},
   "outputs": [
    {
     "name": "stdout",
     "output_type": "stream",
     "text": [
      "+------+-----+\n",
      "|gender|count|\n",
      "+------+-----+\n",
      "|     F|89749|\n",
      "|     M|57520|\n",
      "+------+-----+\n",
      "\n"
     ]
    }
   ],
   "source": [
    "df.groupby('gender').count().show()"
   ]
  },
  {
   "cell_type": "code",
   "execution_count": 28,
   "metadata": {},
   "outputs": [],
   "source": [
    "from pyspark.ml.linalg import Vector\n",
    "from pyspark.ml.feature import VectorAssembler"
   ]
  },
  {
   "cell_type": "code",
   "execution_count": 29,
   "metadata": {},
   "outputs": [
    {
     "data": {
      "text/plain": [
       "['Name', 'Gender', 'Count', 'Probability']"
      ]
     },
     "execution_count": 29,
     "metadata": {},
     "output_type": "execute_result"
    }
   ],
   "source": [
    "df.columns"
   ]
  },
  {
   "cell_type": "code",
   "execution_count": 30,
   "metadata": {},
   "outputs": [],
   "source": [
    "input_cols = ['Count', 'Probability']"
   ]
  },
  {
   "cell_type": "code",
   "execution_count": 31,
   "metadata": {},
   "outputs": [],
   "source": [
    "vec_assembler = VectorAssembler (inputCols= input_cols,\n",
    "                                outputCol= 'features')"
   ]
  },
  {
   "cell_type": "code",
   "execution_count": 32,
   "metadata": {},
   "outputs": [],
   "source": [
    "final_data = vec_assembler.transform(df)"
   ]
  },
  {
   "cell_type": "code",
   "execution_count": 33,
   "metadata": {},
   "outputs": [
    {
     "name": "stdout",
     "output_type": "stream",
     "text": [
      "+-----------+------+-------+-----------+--------------------+\n",
      "|       Name|Gender|  Count|Probability|            features|\n",
      "+-----------+------+-------+-----------+--------------------+\n",
      "|      James|     M|5304407|0.014516787|[5304407.0,0.0145...|\n",
      "|       John|     M|5260831| 0.01439753|[5260831.0,0.0143...|\n",
      "|     Robert|     M|4970386|0.013602658|[4970386.0,0.0136...|\n",
      "|    Michael|     M|4579950|0.012534136|[4579950.0,0.0125...|\n",
      "|    William|     M|4226608| 0.01156713|[4226608.0,0.0115...|\n",
      "|       Mary|     F|4169663|0.011411287|[4169663.0,0.0114...|\n",
      "|      David|     M|3787547|0.010365534|[3787547.0,0.0103...|\n",
      "|     Joseph|     M|2695970|0.007378171|[2695970.0,0.0073...|\n",
      "|    Richard|     M|2638187|0.007220034|[2638187.0,0.0072...|\n",
      "|    Charles|     M|2433540|0.006659968|[2433540.0,0.0066...|\n",
      "|     Thomas|     M|2381034|0.006516273|[2381034.0,0.0065...|\n",
      "|Christopher|     M|2196198|0.006010425|[2196198.0,0.0060...|\n",
      "|     Daniel|     M|2039641|0.005581969|[2039641.0,0.0055...|\n",
      "|    Matthew|     M|1738699|0.004758368|[1738699.0,0.0047...|\n",
      "|  Elizabeth|     F|1704140|0.004663789|[1704140.0,0.0046...|\n",
      "|   Patricia|     F|1608260|0.004401391|[1608260.0,0.0044...|\n",
      "|   Jennifer|     F|1584426|0.004336163|[1584426.0,0.0043...|\n",
      "|    Anthony|     M|1506437|0.004122727|[1506437.0,0.0041...|\n",
      "|     George|     M|1495736|0.004093442|[1495736.0,0.0040...|\n",
      "|      Linda|     F|1480592|0.004051996|[1480592.0,0.0040...|\n",
      "+-----------+------+-------+-----------+--------------------+\n",
      "only showing top 20 rows\n",
      "\n"
     ]
    }
   ],
   "source": [
    "final_data.show()"
   ]
  },
  {
   "cell_type": "code",
   "execution_count": 34,
   "metadata": {},
   "outputs": [],
   "source": [
    "from pyspark.ml.clustering import KMeans\n",
    "from pyspark.ml.evaluation import ClusteringEvaluator"
   ]
  },
  {
   "cell_type": "code",
   "execution_count": 35,
   "metadata": {},
   "outputs": [],
   "source": [
    "kmeans = KMeans(featuresCol = 'features', k=3)"
   ]
  },
  {
   "cell_type": "code",
   "execution_count": 36,
   "metadata": {},
   "outputs": [],
   "source": [
    "model = kmeans.fit(final_data)"
   ]
  },
  {
   "cell_type": "code",
   "execution_count": 37,
   "metadata": {},
   "outputs": [
    {
     "name": "stdout",
     "output_type": "stream",
     "text": [
      "+-----------+-----+\n",
      "|Probability|count|\n",
      "+-----------+-----+\n",
      "|0.002467508|    1|\n",
      "| 9.43612E-4|    1|\n",
      "| 5.93615E-4|    1|\n",
      "| 4.60793E-4|    1|\n",
      "| 3.00916E-4|    1|\n",
      "| 2.81375E-4|    1|\n",
      "| 2.23597E-4|    1|\n",
      "| 1.94098E-4|    1|\n",
      "| 1.34919E-4|    1|\n",
      "|  1.3456E-4|    1|\n",
      "| 1.09467E-4|    1|\n",
      "| 8.09282E-5|    1|\n",
      "| 4.92887E-5|    1|\n",
      "| 4.81064E-5|    1|\n",
      "|  4.0553E-5|    1|\n",
      "| 3.05557E-5|    1|\n",
      "| 2.88015E-5|    1|\n",
      "| 2.71211E-5|    1|\n",
      "| 2.39985E-5|    1|\n",
      "| 2.30817E-5|    1|\n",
      "+-----------+-----+\n",
      "only showing top 20 rows\n",
      "\n"
     ]
    }
   ],
   "source": [
    "model.transform(final_data).groupby('Probability').count().show()"
   ]
  },
  {
   "cell_type": "code",
   "execution_count": 38,
   "metadata": {},
   "outputs": [],
   "source": [
    "predictions = model.transform(final_data)"
   ]
  },
  {
   "cell_type": "code",
   "execution_count": 39,
   "metadata": {},
   "outputs": [
    {
     "name": "stdout",
     "output_type": "stream",
     "text": [
      "+-----------+------+-------+-----------+--------------------+----------+\n",
      "|       Name|Gender|  Count|Probability|            features|prediction|\n",
      "+-----------+------+-------+-----------+--------------------+----------+\n",
      "|      James|     M|5304407|0.014516787|[5304407.0,0.0145...|         1|\n",
      "|       John|     M|5260831| 0.01439753|[5260831.0,0.0143...|         1|\n",
      "|     Robert|     M|4970386|0.013602658|[4970386.0,0.0136...|         1|\n",
      "|    Michael|     M|4579950|0.012534136|[4579950.0,0.0125...|         1|\n",
      "|    William|     M|4226608| 0.01156713|[4226608.0,0.0115...|         1|\n",
      "|       Mary|     F|4169663|0.011411287|[4169663.0,0.0114...|         1|\n",
      "|      David|     M|3787547|0.010365534|[3787547.0,0.0103...|         1|\n",
      "|     Joseph|     M|2695970|0.007378171|[2695970.0,0.0073...|         2|\n",
      "|    Richard|     M|2638187|0.007220034|[2638187.0,0.0072...|         2|\n",
      "|    Charles|     M|2433540|0.006659968|[2433540.0,0.0066...|         2|\n",
      "|     Thomas|     M|2381034|0.006516273|[2381034.0,0.0065...|         2|\n",
      "|Christopher|     M|2196198|0.006010425|[2196198.0,0.0060...|         2|\n",
      "|     Daniel|     M|2039641|0.005581969|[2039641.0,0.0055...|         2|\n",
      "|    Matthew|     M|1738699|0.004758368|[1738699.0,0.0047...|         2|\n",
      "|  Elizabeth|     F|1704140|0.004663789|[1704140.0,0.0046...|         2|\n",
      "|   Patricia|     F|1608260|0.004401391|[1608260.0,0.0044...|         2|\n",
      "|   Jennifer|     F|1584426|0.004336163|[1584426.0,0.0043...|         2|\n",
      "|    Anthony|     M|1506437|0.004122727|[1506437.0,0.0041...|         2|\n",
      "|     George|     M|1495736|0.004093442|[1495736.0,0.0040...|         2|\n",
      "|      Linda|     F|1480592|0.004051996|[1480592.0,0.0040...|         2|\n",
      "+-----------+------+-------+-----------+--------------------+----------+\n",
      "only showing top 20 rows\n",
      "\n"
     ]
    }
   ],
   "source": [
    "predictions.show()"
   ]
  },
  {
   "cell_type": "code",
   "execution_count": 41,
   "metadata": {},
   "outputs": [
    {
     "name": "stdout",
     "output_type": "stream",
     "text": [
      "+-----------+----------+-----+\n",
      "|Probability|prediction|count|\n",
      "+-----------+----------+-----+\n",
      "| 7.66692E-4|         0|    1|\n",
      "|  3.5325E-4|         0|    1|\n",
      "| 3.35426E-4|         0|    1|\n",
      "| 3.28119E-4|         0|    1|\n",
      "| 3.27621E-4|         0|    1|\n",
      "| 1.87122E-4|         0|    1|\n",
      "| 1.54426E-4|         0|    1|\n",
      "| 1.11062E-4|         0|    1|\n",
      "| 8.64454E-5|         0|    1|\n",
      "| 8.54219E-5|         0|    1|\n",
      "| 5.60457E-5|         0|    1|\n",
      "| 5.39083E-5|         0|    1|\n",
      "| 3.50139E-5|         0|    1|\n",
      "| 3.09991E-5|         0|    2|\n",
      "| 3.05694E-5|         0|    1|\n",
      "| 2.14998E-5|         0|    1|\n",
      "| 2.07938E-5|         0|    1|\n",
      "| 1.69897E-5|         0|    2|\n",
      "| 1.42666E-5|         0|    1|\n",
      "| 9.71817E-6|         0|    1|\n",
      "+-----------+----------+-----+\n",
      "only showing top 20 rows\n",
      "\n"
     ]
    }
   ],
   "source": [
    "predictions.groupby('Probability', 'prediction').count().show()"
   ]
  },
  {
   "cell_type": "code",
   "execution_count": 42,
   "metadata": {},
   "outputs": [
    {
     "name": "stdout",
     "output_type": "stream",
     "text": [
      "+-----------+-----+\n",
      "|Probability|count|\n",
      "+-----------+-----+\n",
      "|0.002467508|    1|\n",
      "| 9.43612E-4|    1|\n",
      "| 5.93615E-4|    1|\n",
      "| 4.60793E-4|    1|\n",
      "| 3.00916E-4|    1|\n",
      "| 2.81375E-4|    1|\n",
      "| 2.23597E-4|    1|\n",
      "| 1.94098E-4|    1|\n",
      "| 1.34919E-4|    1|\n",
      "|  1.3456E-4|    1|\n",
      "| 1.09467E-4|    1|\n",
      "| 8.09282E-5|    1|\n",
      "| 4.92887E-5|    1|\n",
      "| 4.81064E-5|    1|\n",
      "|  4.0553E-5|    1|\n",
      "| 3.05557E-5|    1|\n",
      "| 2.88015E-5|    1|\n",
      "| 2.71211E-5|    1|\n",
      "| 2.39985E-5|    1|\n",
      "| 2.30817E-5|    1|\n",
      "+-----------+-----+\n",
      "only showing top 20 rows\n",
      "\n"
     ]
    }
   ],
   "source": [
    "df.groupby('Probability').count().show()"
   ]
  },
  {
   "cell_type": "code",
   "execution_count": null,
   "metadata": {},
   "outputs": [],
   "source": []
  }
 ],
 "metadata": {
  "kernelspec": {
   "display_name": "Python 3",
   "language": "python",
   "name": "python3"
  },
  "language_info": {
   "codemirror_mode": {
    "name": "ipython",
    "version": 3
   },
   "file_extension": ".py",
   "mimetype": "text/x-python",
   "name": "python",
   "nbconvert_exporter": "python",
   "pygments_lexer": "ipython3",
   "version": "3.8.2"
  }
 },
 "nbformat": 4,
 "nbformat_minor": 4
}
